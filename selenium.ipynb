{
 "cells": [
  {
   "cell_type": "code",
   "execution_count": 9,
   "metadata": {},
   "outputs": [
    {
     "data": {
      "text/plain": [
       "['__class__',\n",
       " '__delattr__',\n",
       " '__delete__',\n",
       " '__dir__',\n",
       " '__doc__',\n",
       " '__eq__',\n",
       " '__format__',\n",
       " '__ge__',\n",
       " '__get__',\n",
       " '__getattribute__',\n",
       " '__gt__',\n",
       " '__hash__',\n",
       " '__init__',\n",
       " '__init_subclass__',\n",
       " '__isabstractmethod__',\n",
       " '__le__',\n",
       " '__lt__',\n",
       " '__ne__',\n",
       " '__new__',\n",
       " '__reduce__',\n",
       " '__reduce_ex__',\n",
       " '__repr__',\n",
       " '__set__',\n",
       " '__setattr__',\n",
       " '__sizeof__',\n",
       " '__str__',\n",
       " '__subclasshook__',\n",
       " 'deleter',\n",
       " 'fdel',\n",
       " 'fget',\n",
       " 'fset',\n",
       " 'getter',\n",
       " 'setter']"
      ]
     },
     "execution_count": 9,
     "metadata": {},
     "output_type": "execute_result"
    }
   ],
   "source": [
    "#from selenium import webdriver\n",
    "#dir(webdriver.FirefoxOptions.binary_location)"
   ]
  },
  {
   "cell_type": "code",
   "execution_count": 15,
   "metadata": {},
   "outputs": [
    {
     "name": "stdout",
     "output_type": "stream",
     "text": [
      "[24, 126, 288]\n"
     ]
    },
    {
     "data": {
      "image/png": "[encoded data removed]",
      "text/plain": [
       "<Figure size 432x288 with 1 Axes>"
      ]
     },
     "metadata": {},
     "output_type": "display_data"
    }
   ],
   "source": [
    "from selenium import webdriver \n",
    "#importing webdriver\n",
    "import matplotlib.pyplot as plt\n",
    "num=0\n",
    "sec=0\n",
    "time=[]\n",
    "web = webdriver.Firefox()\n",
    "#initiating firefox web browser\n",
    "git_account=['Parnidadu','subhamskm','redashu']\n",
    "for i in git_account:\n",
    "    #fetching data from above list of account\n",
    "    web.get(\"https://github.com/\"+i+\"?tab=repositories\")\n",
    "    last_commit=web.find_element_by_tag_name('relative-time').text\n",
    "    data=last_commit.split()\n",
    "#detecting valuable data and converting it to meaningful data\n",
    "    if data[0]=='a' or data[0]=='an' or data[0]=='few':\n",
    "        sec=1\n",
    "    else:\n",
    "        sec=int(data[0])\n",
    "    if data[1]=='weeks':\n",
    "        num=7*24*60*6\n",
    "    if data[1]=='days':\n",
    "        num=24*60*6\n",
    "    if data[1]=='months':\n",
    "        num=30*24*60*6\n",
    "    if data[1]=='hours':\n",
    "        num=24*6\n",
    "    if data[1]=='minutes':    \n",
    "        num=6  \n",
    "    totaltime=sec*num /100   \n",
    "    time.append(totaltime)\n",
    "web.close()\n",
    "print(time)\n",
    "#sketching graph\n",
    "plt.bar(git_account,time)\n",
    "plt.show()"
   ]
  },
  {
   "cell_type": "code",
   "execution_count": null,
   "metadata": {},
   "outputs": [],
   "source": []
  },
  {
   "cell_type": "code",
   "execution_count": null,
   "metadata": {},
   "outputs": [],
   "source": []
  }
 ],
 "metadata": {
  "kernelspec": {
   "display_name": "Python 3",
   "language": "python",
   "name": "python3"
  },
  "language_info": {
   "codemirror_mode": {
    "name": "ipython",
    "version": 3
   },
   "file_extension": ".py",
   "mimetype": "text/x-python",
   "name": "python",
   "nbconvert_exporter": "python",
   "pygments_lexer": "ipython3",
   "version": "3.6.5+"
  }
 },
 "nbformat": 4,
 "nbformat_minor": 2
}
